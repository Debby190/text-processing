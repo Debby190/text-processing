{
  "nbformat": 4,
  "nbformat_minor": 0,
  "metadata": {
    "colab": {
      "provenance": [],
      "authorship_tag": "ABX9TyMno9yGrB6PPBRwzqX1J2Xz",
      "include_colab_link": true
    },
    "kernelspec": {
      "name": "python3",
      "display_name": "Python 3"
    },
    "language_info": {
      "name": "python"
    }
  },
  "cells": [
    {
      "cell_type": "markdown",
      "metadata": {
        "id": "view-in-github",
        "colab_type": "text"
      },
      "source": [
        "<a href=\"https://colab.research.google.com/github/Debby190/text-processing/blob/main/2023C_ProjectScraping_Kel2.ipynb\" target=\"_parent\"><img src=\"https://colab.research.google.com/assets/colab-badge.svg\" alt=\"Open In Colab\"/></a>"
      ]
    },
    {
      "cell_type": "code",
      "execution_count": 7,
      "metadata": {
        "id": "XElGRp4xZiar"
      },
      "outputs": [],
      "source": [
        "from bs4 import BeautifulSoup\n",
        "import requests as rs\n",
        "import pandas as pd\n",
        "import re\n",
        "import string"
      ]
    },
    {
      "cell_type": "code",
      "source": [
        "link = 'https://reviews.femaledaily.com/products/eyes/mascara/maybelline/volum-express-hyper-curl-54?cat=&cat_id=0&age_range=&skin_type=&skin_tone=&skin_undertone=&hair_texture=&hair_type=&order=newest&page='\n",
        "page_response = rs.get(link)\n",
        "page_response"
      ],
      "metadata": {
        "colab": {
          "base_uri": "https://localhost:8080/"
        },
        "id": "R9ORHL-pZwkd",
        "outputId": "129997a0-5dde-4037-a8f9-ffe3d4331dcb"
      },
      "execution_count": 2,
      "outputs": [
        {
          "output_type": "execute_result",
          "data": {
            "text/plain": [
              "<Response [200]>"
            ]
          },
          "metadata": {},
          "execution_count": 2
        }
      ]
    },
    {
      "cell_type": "code",
      "source": [
        "soup = BeautifulSoup(page_response.text, 'html.parser')\n",
        "rev = soup.find('p', {'class': 'text-content'}).text\n",
        "print (rev)\n",
        "rekom = soup.find('p', {'class':\"recommend\"}).text\n",
        "print (rekom)\n",
        "tanggal = soup.find('p', {'class':\"review-date\"}).text\n",
        "print (tanggal)\n",
        "reviewer = soup.find('p', {'class':\"profile-username\"}).text\n",
        "print (reviewer)"
      ],
      "metadata": {
        "colab": {
          "base_uri": "https://localhost:8080/"
        },
        "id": "mRnBfOYIZ2m0",
        "outputId": "1be06af9-da11-44c2-9778-c03d9fcbf9c3"
      },
      "execution_count": 3,
      "outputs": [
        {
          "output_type": "stream",
          "name": "stdout",
          "text": [
            "aku udah lama banget pakai mascara ini, dan emang sebagus ituu tidak mudah luntur walaupun terkena air. bahkan nih yaa, pas dibersihin pakai oil cleansing aja masih ada yg sisaa memang se Waterproof itu produk ini, dan kalau buru buru mau pergi pakai dikit aja bulu mata udah baguss\n",
            "Erarevina_S recommends this product!\n",
            "4 days ago\n",
            "Erarevina_S\n"
          ]
        }
      ]
    },
    {
      "cell_type": "code",
      "execution_count": 5,
      "metadata": {
        "id": "NZKR9SFfl66V"
      },
      "outputs": [],
      "source": [
        "review = []\n",
        "tanggal = []\n",
        "reviewer = []\n",
        "\n",
        "root = 'https://reviews.femaledaily.com/products/eyes/mascara/maybelline/volum-express-hyper-curl-54?cat=&cat_id=0&age_range=&skin_type=&skin_tone=&skin_undertone=&hair_texture=&hair_type=&order=newest&page='\n"
      ]
    },
    {
      "cell_type": "code",
      "execution_count": 8,
      "metadata": {
        "id": "VRzg8Pfdpmtd"
      },
      "outputs": [],
      "source": [
        "\n",
        "for page in range(1, 100):\n",
        "    url = rs.get(root + str(page))\n",
        "    soup = BeautifulSoup(url.text, 'html.parser')\n",
        "\n",
        "    def scraping(soup):\n",
        "        ulasan = soup.findAll('div', {'class': 'review-card'})\n",
        "\n",
        "        for i in ulasan:\n",
        "            rev = i.find(\"p\", {\"class\": \"text-content\"})\n",
        "            tgl = i.find(\"p\", {\"class\": \"review-date\"})\n",
        "            nama = i.find(\"p\", {\"class\": \"profile-username\"})\n",
        "            if tgl:\n",
        "                tgl_text = tgl.text.strip()\n",
        "                if re.search(r'(Jun|Jul|Aug|Sep)\\s+2024', tgl_text):\n",
        "                  tanggal.append(tgl.text.strip() if tgl else None)\n",
        "                  review.append(rev.text.strip() if rev else None)\n",
        "                  reviewer.append(nama.text.strip() if nama else None)\n",
        "\n",
        "    scraping(soup)"
      ]
    },
    {
      "cell_type": "code",
      "execution_count": 9,
      "metadata": {
        "id": "JUofRbi0lxnY"
      },
      "outputs": [],
      "source": [
        "df = pd.DataFrame({\n",
        "    'Tanggal': tanggal,\n",
        "    'Reviewer': reviewer,\n",
        "    'Review': review\n",
        "})"
      ]
    },
    {
      "cell_type": "code",
      "execution_count": 10,
      "metadata": {
        "id": "-LDLkbxMmCrw",
        "colab": {
          "base_uri": "https://localhost:8080/"
        },
        "outputId": "d9f1cb47-c111-47f3-f650-dfc3cccbcda8"
      },
      "outputs": [
        {
          "output_type": "stream",
          "name": "stdout",
          "text": [
            "Data berhasil disimpan ke \"review_produk.csv\". Total halaman yang di-scrap: 98\n"
          ]
        }
      ],
      "source": [
        "df = df.reindex(columns=['Tanggal', 'Reviewer', 'Review'])\n",
        "df.to_csv(\"review_produk.csv\", index=False, encoding='utf-8-sig')\n",
        "print(f'Data berhasil disimpan ke \"review_produk.csv\". Total halaman yang di-scrap: {page - 1}')"
      ]
    }
  ]
}